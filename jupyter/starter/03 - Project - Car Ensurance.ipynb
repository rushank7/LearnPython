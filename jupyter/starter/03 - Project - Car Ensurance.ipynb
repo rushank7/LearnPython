{
 "cells": [
  {
   "cell_type": "markdown",
   "metadata": {},
   "source": [
    "# Project - Car Ensurance\n",
    "### Goal\n",
    "- Car ensurance calculation based on the following decision tree"
   ]
  },
  {
   "cell_type": "markdown",
   "metadata": {},
   "source": [
    "![alt text](img/DecisionTree.png \"Title\")"
   ]
  },
  {
   "cell_type": "markdown",
   "metadata": {},
   "source": [
    "### Description\n",
    "- This is a fictional car insurance company called Car Crash\n",
    "- They calculate the yearly ensurance price based on the current market price of the car\n",
    "- Given the market price: market_price\n",
    "- Then the yearly ensurance price is 9% of the market_price if it is a male above 26 years old.\n",
    "- As we see in the decision tree, we have 4 possible price calculations.\n",
    "- Create a program, which takes input and based on that calculated the correct price for all 4 cases"
   ]
  },
  {
   "cell_type": "code",
   "execution_count": 10,
   "id": "cf8ec9e0",
   "metadata": {},
   "outputs": [
    {
     "name": "stdout",
     "output_type": "stream",
     "text": [
      "more than 26\n",
      "Insurance offer: 11500.0\n"
     ]
    }
   ],
   "source": [
    "gender = input(\"what is your gender?\")\n",
    "gender = str(gender)\n",
    "if gender ==\"male\":\n",
    "        age = input('what is your age:?')\n",
    "        age = int(age)\n",
    "        if age<=26:\n",
    "            print(\"more than 26\")\n",
    "            percentage = 23\n",
    "        else:\n",
    "            print(f\"less than 26%\")\n",
    "            percentage = 9\n",
    "elif gender =='female':\n",
    "        sports =input('do you liek sports(yes/no):')\n",
    "        sports = str(sports)\n",
    "        if sports=='yes':\n",
    "            print(\"sports car\")\n",
    "            percentage = 21\n",
    "        else:\n",
    "            print(\"its not a sports car\")\n",
    "            percentage = 10\n",
    "else:\n",
    "    print(\"wrong format\")\n",
    "    percentage = 'enter right values'\n",
    "\n",
    "market_price = input(\"What is the market price of your car? \")\n",
    "market_price = int(market_price)\n",
    "\n",
    "insurance_offer = market_price*percentage/100\n",
    "\n",
    "\n",
    "\n",
    "print(f\"Insurance offer: {insurance_offer}\")\n",
    "    \n"
   ]
  },
  {
   "cell_type": "code",
   "execution_count": null,
   "metadata": {},
   "outputs": [],
   "source": []
  }
 ],
 "metadata": {
  "kernelspec": {
   "display_name": "Python 3.8.3 64-bit",
   "language": "python",
   "name": "python3"
  },
  "language_info": {
   "codemirror_mode": {
    "name": "ipython",
    "version": 3
   },
   "file_extension": ".py",
   "mimetype": "text/x-python",
   "name": "python",
   "nbconvert_exporter": "python",
   "pygments_lexer": "ipython3",
   "version": "3.8.3"
  },
  "vscode": {
   "interpreter": {
    "hash": "570feb405e2e27c949193ac68f46852414290d515b0ba6e5d90d076ed2284471"
   }
  }
 },
 "nbformat": 4,
 "nbformat_minor": 4
}
