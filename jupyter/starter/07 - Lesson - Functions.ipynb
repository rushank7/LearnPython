{
 "cells": [
  {
   "cell_type": "markdown",
   "metadata": {},
   "source": [
    "# Functions\n",
    "### Goal\n",
    "- Learn about functions\n",
    "- Use functions to structure code\n",
    "- Functions makes the code more readable"
   ]
  },
  {
   "cell_type": "code",
   "execution_count": 6,
   "id": "221aadf9",
   "metadata": {},
   "outputs": [],
   "source": [
    "def name (first_name,last_name,age):\n",
    "    print(first_name,last_name,age)"
   ]
  },
  {
   "cell_type": "code",
   "execution_count": 7,
   "id": "ea8c781b",
   "metadata": {},
   "outputs": [
    {
     "name": "stdout",
     "output_type": "stream",
     "text": [
      "rushank patil 25\n"
     ]
    }
   ],
   "source": [
    "name('rushank','patil',25)"
   ]
  },
  {
   "cell_type": "code",
   "execution_count": 10,
   "metadata": {},
   "outputs": [],
   "source": [
    "from datetime import date\n",
    "current_year = date.today().year"
   ]
  },
  {
   "cell_type": "code",
   "execution_count": 13,
   "id": "49755540",
   "metadata": {},
   "outputs": [],
   "source": [
    "#calculate agef\n",
    "def age(birth_year):\n",
    "    return current_year-birth_year"
   ]
  },
  {
   "cell_type": "code",
   "execution_count": 14,
   "id": "570aeb98",
   "metadata": {},
   "outputs": [
    {
     "data": {
      "text/plain": [
       "25"
      ]
     },
     "execution_count": 14,
     "metadata": {},
     "output_type": "execute_result"
    }
   ],
   "source": [
    "age(1997)"
   ]
  },
  {
   "cell_type": "code",
   "execution_count": 15,
   "id": "90d6cfc9",
   "metadata": {},
   "outputs": [
    {
     "data": {
      "text/plain": [
       "114"
      ]
     },
     "execution_count": 15,
     "metadata": {},
     "output_type": "execute_result"
    }
   ],
   "source": [
    "ord('r')"
   ]
  },
  {
   "cell_type": "code",
   "execution_count": 16,
   "id": "3aefc0a1",
   "metadata": {},
   "outputs": [
    {
     "data": {
      "text/plain": [
       "'A'"
      ]
     },
     "execution_count": 16,
     "metadata": {},
     "output_type": "execute_result"
    }
   ],
   "source": [
    "chr(65)"
   ]
  },
  {
   "cell_type": "code",
   "execution_count": 17,
   "id": "008f5003",
   "metadata": {},
   "outputs": [
    {
     "data": {
      "text/plain": [
       "'r'"
      ]
     },
     "execution_count": 17,
     "metadata": {},
     "output_type": "execute_result"
    }
   ],
   "source": [
    "chr(114)"
   ]
  },
  {
   "cell_type": "code",
   "execution_count": 19,
   "id": "dd4c0226",
   "metadata": {},
   "outputs": [
    {
     "name": "stdout",
     "output_type": "stream",
     "text": [
      "this is 65 for A\n",
      "this is 66 for B\n",
      "this is 67 for C\n",
      "this is 68 for D\n",
      "this is 69 for E\n",
      "this is 70 for F\n",
      "this is 71 for G\n",
      "this is 72 for H\n",
      "this is 73 for I\n",
      "this is 74 for J\n",
      "this is 75 for K\n",
      "this is 76 for L\n",
      "this is 77 for M\n",
      "this is 78 for N\n",
      "this is 79 for O\n",
      "this is 80 for P\n",
      "this is 81 for Q\n",
      "this is 82 for R\n",
      "this is 83 for S\n",
      "this is 84 for T\n",
      "this is 85 for U\n",
      "this is 86 for V\n",
      "this is 87 for W\n",
      "this is 88 for X\n",
      "this is 89 for Y\n",
      "this is 90 for Z\n"
     ]
    }
   ],
   "source": [
    "for i in range(65,65+26):\n",
    "    print(f'this is {i} for {chr(i)}')"
   ]
  },
  {
   "cell_type": "code",
   "execution_count": 20,
   "id": "16c53209",
   "metadata": {},
   "outputs": [],
   "source": [
    "def is_even(n):\n",
    "    if n%2 == 0:\n",
    "        print('even')\n",
    "    else:\n",
    "        n%2 != 0\n",
    "        print('odd')"
   ]
  },
  {
   "cell_type": "code",
   "execution_count": 21,
   "id": "dfb9125a",
   "metadata": {},
   "outputs": [
    {
     "name": "stdout",
     "output_type": "stream",
     "text": [
      "odd\n"
     ]
    }
   ],
   "source": [
    "is_even(5)"
   ]
  },
  {
   "cell_type": "code",
   "execution_count": null,
   "id": "96b40be4",
   "metadata": {},
   "outputs": [],
   "source": []
  },
  {
   "cell_type": "code",
   "execution_count": null,
   "id": "c12554a9",
   "metadata": {},
   "outputs": [],
   "source": []
  },
  {
   "cell_type": "code",
   "execution_count": null,
   "id": "3fabfb17",
   "metadata": {},
   "outputs": [],
   "source": []
  },
  {
   "cell_type": "code",
   "execution_count": null,
   "id": "e0f0215c",
   "metadata": {},
   "outputs": [],
   "source": []
  },
  {
   "cell_type": "code",
   "execution_count": null,
   "id": "f5bd50fc",
   "metadata": {},
   "outputs": [],
   "source": []
  },
  {
   "cell_type": "code",
   "execution_count": null,
   "id": "fe3808c1",
   "metadata": {},
   "outputs": [],
   "source": []
  },
  {
   "cell_type": "code",
   "execution_count": null,
   "id": "cb51f4e2",
   "metadata": {},
   "outputs": [],
   "source": []
  }
 ],
 "metadata": {
  "kernelspec": {
   "display_name": "Python 3.8.3 64-bit",
   "language": "python",
   "name": "python3"
  },
  "language_info": {
   "codemirror_mode": {
    "name": "ipython",
    "version": 3
   },
   "file_extension": ".py",
   "mimetype": "text/x-python",
   "name": "python",
   "nbconvert_exporter": "python",
   "pygments_lexer": "ipython3",
   "version": "3.8.3"
  },
  "vscode": {
   "interpreter": {
    "hash": "570feb405e2e27c949193ac68f46852414290d515b0ba6e5d90d076ed2284471"
   }
  }
 },
 "nbformat": 4,
 "nbformat_minor": 4
}
