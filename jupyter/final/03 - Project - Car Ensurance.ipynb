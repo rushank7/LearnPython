{
 "cells": [
  {
   "cell_type": "markdown",
   "metadata": {},
   "source": [
    "# Project - Car Ensurance\n",
    "### Goal\n",
    "- Car ensurance calculation based on the following decision tree"
   ]
  },
  {
   "cell_type": "markdown",
   "metadata": {},
   "source": [
    "![alt text](img/DecisionTree.png \"Title\")"
   ]
  },
  {
   "cell_type": "markdown",
   "metadata": {},
   "source": [
    "### Description\n",
    "- This is a fictional car insurance company called Car Crash\n",
    "- They calculate the yearly ensurance price based on the current market price of the car\n",
    "- Given the market price: market_price\n",
    "- Then the yearly ensurance price is 9% of the market_price if it is a male above 26 years old.\n",
    "- As we see in the decision tree, we have 4 possible price calculations.\n",
    "- Create a program, which takes input and based on that calculated the correct price for all 4 cases"
   ]
  },
  {
   "cell_type": "code",
   "execution_count": 2,
   "metadata": {},
   "outputs": [
    {
     "name": "stdout",
     "output_type": "stream",
     "text": [
      "Male\n",
      "Less/equal to 26\n"
     ]
    },
    {
     "ename": "ValueError",
     "evalue": "invalid literal for int() with base 10: ''",
     "output_type": "error",
     "traceback": [
      "\u001b[1;31m---------------------------------------------------------------------------\u001b[0m",
      "\u001b[1;31mValueError\u001b[0m                                Traceback (most recent call last)",
      "\u001b[1;32mf:\\learning softwares\\python\\learn python with rune\\LearnPython\\jupyter\\final\\03 - Project - Car Ensurance.ipynb Cell 4'\u001b[0m in \u001b[0;36m<cell line: 28>\u001b[1;34m()\u001b[0m\n\u001b[0;32m     <a href='vscode-notebook-cell:/f%3A/learning%20softwares/python/learn%20python%20with%20rune/LearnPython/jupyter/final/03%20-%20Project%20-%20Car%20Ensurance.ipynb#ch0000003?line=24'>25</a>\u001b[0m     percentage \u001b[39m=\u001b[39m \u001b[39mNone\u001b[39;00m\n\u001b[0;32m     <a href='vscode-notebook-cell:/f%3A/learning%20softwares/python/learn%20python%20with%20rune/LearnPython/jupyter/final/03%20-%20Project%20-%20Car%20Ensurance.ipynb#ch0000003?line=26'>27</a>\u001b[0m market_price \u001b[39m=\u001b[39m \u001b[39minput\u001b[39m(\u001b[39m\"\u001b[39m\u001b[39mWhat is the market price of your car? \u001b[39m\u001b[39m\"\u001b[39m)\n\u001b[1;32m---> <a href='vscode-notebook-cell:/f%3A/learning%20softwares/python/learn%20python%20with%20rune/LearnPython/jupyter/final/03%20-%20Project%20-%20Car%20Ensurance.ipynb#ch0000003?line=27'>28</a>\u001b[0m market_price \u001b[39m=\u001b[39m \u001b[39mint\u001b[39;49m(market_price)\n\u001b[0;32m     <a href='vscode-notebook-cell:/f%3A/learning%20softwares/python/learn%20python%20with%20rune/LearnPython/jupyter/final/03%20-%20Project%20-%20Car%20Ensurance.ipynb#ch0000003?line=29'>30</a>\u001b[0m ensurance_offer \u001b[39m=\u001b[39m market_price\u001b[39m*\u001b[39mpercentage\u001b[39m/\u001b[39m\u001b[39m100\u001b[39m\n\u001b[0;32m     <a href='vscode-notebook-cell:/f%3A/learning%20softwares/python/learn%20python%20with%20rune/LearnPython/jupyter/final/03%20-%20Project%20-%20Car%20Ensurance.ipynb#ch0000003?line=33'>34</a>\u001b[0m \u001b[39mprint\u001b[39m(\u001b[39mf\u001b[39m\u001b[39m\"\u001b[39m\u001b[39mEnsurance offer: \u001b[39m\u001b[39m{\u001b[39;00mensurance_offer\u001b[39m}\u001b[39;00m\u001b[39m\"\u001b[39m)\n",
      "\u001b[1;31mValueError\u001b[0m: invalid literal for int() with base 10: ''"
     ]
    }
   ],
   "source": [
    "gender = input(\"What is your gender (M/F): \")\n",
    "gender = gender.upper()\n",
    "if gender == 'M':\n",
    "    print(\"Male\")\n",
    "    age = input(\"What is your age? \")\n",
    "    age = int(age)\n",
    "    if age <= 26:\n",
    "        print(\"Less/equal to 26\")\n",
    "        percentage = 23\n",
    "    else:\n",
    "        print(\"More than 26\")\n",
    "        percentage = 9\n",
    "elif gender == 'F':\n",
    "    print(\"Female\")\n",
    "    car_type = input(\"What is your car type (sports/non-sports) \")\n",
    "    car_type = car_type.upper()\n",
    "    if car_type == \"SPORTS\":\n",
    "        print(\"Sports car\")\n",
    "        percentage = 21\n",
    "    else:\n",
    "        print(\"Non-sports car\")\n",
    "        percentage = 10\n",
    "else:\n",
    "    print(\"Wrong format\")\n",
    "    percentage = None\n",
    "\n",
    "market_price = input(\"What is the market price of your car? \")\n",
    "market_price = int(market_price)\n",
    "\n",
    "ensurance_offer = market_price*percentage/100\n",
    "\n",
    "\n",
    "\n",
    "print(f\"Ensurance offer: {ensurance_offer}\")"
   ]
  },
  {
   "cell_type": "code",
   "execution_count": null,
   "metadata": {},
   "outputs": [],
   "source": []
  }
 ],
 "metadata": {
  "kernelspec": {
   "display_name": "Python 3.8.3 64-bit",
   "language": "python",
   "name": "python3"
  },
  "language_info": {
   "codemirror_mode": {
    "name": "ipython",
    "version": 3
   },
   "file_extension": ".py",
   "mimetype": "text/x-python",
   "name": "python",
   "nbconvert_exporter": "python",
   "pygments_lexer": "ipython3",
   "version": "3.8.3"
  },
  "vscode": {
   "interpreter": {
    "hash": "570feb405e2e27c949193ac68f46852414290d515b0ba6e5d90d076ed2284471"
   }
  }
 },
 "nbformat": 4,
 "nbformat_minor": 4
}
